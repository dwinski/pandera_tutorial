{
 "cells": [
  {
   "cell_type": "markdown",
   "id": "e78cbd31",
   "metadata": {},
   "source": [
    "# A Brief Intro to Data Validation in Python with Pandera"
   ]
  },
  {
   "cell_type": "markdown",
   "id": "083d1ac5",
   "metadata": {},
   "source": [
    "## Pandera is Data Validation Package for Python\n",
    "\n",
    "- https://pandera.readthedocs.io/en/latest/index.html#\n",
    "- Checks data in dataframes against schema (set of rules) \n",
    "- Schema (DataFrameSchema object) contains suite of tests that you specify\n",
    "- You test data in dataframe against schema to see if it conforms to expectations\n",
    "- Can be used with dataframes from:\n",
    "  - pandas\n",
    "  - polars\n",
    "  - PySpark SQL\n",
    "- A lot of functionality, we'll just cover basics here\n",
    "- \"validate\" package for R is similar:\n",
    "  - https://cran.r-project.org/web/packages/validate/vignettes/cookbook.html"
   ]
  },
  {
   "cell_type": "code",
   "execution_count": 2,
   "id": "fa0424d2",
   "metadata": {},
   "outputs": [],
   "source": [
    "import pandas as pd\n",
    "import pandera as pa\n",
    "from pandera import Column, DataFrameSchema, Check"
   ]
  },
  {
   "cell_type": "markdown",
   "id": "2cfa56dd",
   "metadata": {},
   "source": [
    "### We'll use the Titanic Dataset for this Brief Tutorial"
   ]
  },
  {
   "cell_type": "code",
   "execution_count": 3,
   "id": "6094d549",
   "metadata": {},
   "outputs": [],
   "source": [
    "# read in titanic dataset \n",
    "df = pd.read_csv('../datasets/titanic.csv')"
   ]
  },
  {
   "cell_type": "code",
   "execution_count": 4,
   "id": "2d940816",
   "metadata": {},
   "outputs": [
    {
     "data": {
      "text/html": [
       "<div>\n",
       "<style scoped>\n",
       "    .dataframe tbody tr th:only-of-type {\n",
       "        vertical-align: middle;\n",
       "    }\n",
       "\n",
       "    .dataframe tbody tr th {\n",
       "        vertical-align: top;\n",
       "    }\n",
       "\n",
       "    .dataframe thead th {\n",
       "        text-align: right;\n",
       "    }\n",
       "</style>\n",
       "<table border=\"1\" class=\"dataframe\">\n",
       "  <thead>\n",
       "    <tr style=\"text-align: right;\">\n",
       "      <th></th>\n",
       "      <th>survived</th>\n",
       "      <th>pclass</th>\n",
       "      <th>name</th>\n",
       "      <th>sex</th>\n",
       "      <th>age</th>\n",
       "      <th>fare</th>\n",
       "      <th>sibsp</th>\n",
       "      <th>parch</th>\n",
       "    </tr>\n",
       "  </thead>\n",
       "  <tbody>\n",
       "    <tr>\n",
       "      <th>0</th>\n",
       "      <td>0</td>\n",
       "      <td>3</td>\n",
       "      <td>Braund, Mr. Owen Harris</td>\n",
       "      <td>male</td>\n",
       "      <td>22.0</td>\n",
       "      <td>7.2500</td>\n",
       "      <td>1</td>\n",
       "      <td>0</td>\n",
       "    </tr>\n",
       "    <tr>\n",
       "      <th>1</th>\n",
       "      <td>1</td>\n",
       "      <td>1</td>\n",
       "      <td>Cumings, Mrs. John Bradley (Florence Briggs Th...</td>\n",
       "      <td>female</td>\n",
       "      <td>38.0</td>\n",
       "      <td>71.2833</td>\n",
       "      <td>1</td>\n",
       "      <td>0</td>\n",
       "    </tr>\n",
       "    <tr>\n",
       "      <th>2</th>\n",
       "      <td>1</td>\n",
       "      <td>3</td>\n",
       "      <td>Heikkinen, Miss. Laina</td>\n",
       "      <td>female</td>\n",
       "      <td>26.0</td>\n",
       "      <td>7.9250</td>\n",
       "      <td>0</td>\n",
       "      <td>0</td>\n",
       "    </tr>\n",
       "    <tr>\n",
       "      <th>3</th>\n",
       "      <td>1</td>\n",
       "      <td>1</td>\n",
       "      <td>Futrelle, Mrs. Jacques Heath (Lily May Peel)</td>\n",
       "      <td>female</td>\n",
       "      <td>35.0</td>\n",
       "      <td>53.1000</td>\n",
       "      <td>1</td>\n",
       "      <td>0</td>\n",
       "    </tr>\n",
       "    <tr>\n",
       "      <th>4</th>\n",
       "      <td>0</td>\n",
       "      <td>3</td>\n",
       "      <td>Allen, Mr. William Henry</td>\n",
       "      <td>male</td>\n",
       "      <td>35.0</td>\n",
       "      <td>8.0500</td>\n",
       "      <td>0</td>\n",
       "      <td>0</td>\n",
       "    </tr>\n",
       "    <tr>\n",
       "      <th>5</th>\n",
       "      <td>0</td>\n",
       "      <td>1</td>\n",
       "      <td>McCarthy, Mr. Timothy J</td>\n",
       "      <td>male</td>\n",
       "      <td>54.0</td>\n",
       "      <td>51.8625</td>\n",
       "      <td>0</td>\n",
       "      <td>0</td>\n",
       "    </tr>\n",
       "    <tr>\n",
       "      <th>6</th>\n",
       "      <td>0</td>\n",
       "      <td>3</td>\n",
       "      <td>Palsson, Master. Gosta Leonard</td>\n",
       "      <td>male</td>\n",
       "      <td>2.0</td>\n",
       "      <td>21.0750</td>\n",
       "      <td>3</td>\n",
       "      <td>1</td>\n",
       "    </tr>\n",
       "    <tr>\n",
       "      <th>7</th>\n",
       "      <td>1</td>\n",
       "      <td>3</td>\n",
       "      <td>Johnson, Mrs. Oscar W (Elisabeth Vilhelmina Berg)</td>\n",
       "      <td>female</td>\n",
       "      <td>27.0</td>\n",
       "      <td>11.1333</td>\n",
       "      <td>0</td>\n",
       "      <td>2</td>\n",
       "    </tr>\n",
       "    <tr>\n",
       "      <th>8</th>\n",
       "      <td>1</td>\n",
       "      <td>2</td>\n",
       "      <td>Nasser, Mrs. Nicholas (Adele Achem)</td>\n",
       "      <td>female</td>\n",
       "      <td>14.0</td>\n",
       "      <td>30.0708</td>\n",
       "      <td>1</td>\n",
       "      <td>0</td>\n",
       "    </tr>\n",
       "    <tr>\n",
       "      <th>9</th>\n",
       "      <td>1</td>\n",
       "      <td>3</td>\n",
       "      <td>Sandstrom, Miss. Marguerite Rut</td>\n",
       "      <td>female</td>\n",
       "      <td>4.0</td>\n",
       "      <td>16.7000</td>\n",
       "      <td>1</td>\n",
       "      <td>1</td>\n",
       "    </tr>\n",
       "  </tbody>\n",
       "</table>\n",
       "</div>"
      ],
      "text/plain": [
       "   survived  pclass  ... sibsp parch\n",
       "0         0       3  ...     1     0\n",
       "1         1       1  ...     1     0\n",
       "2         1       3  ...     0     0\n",
       "3         1       1  ...     1     0\n",
       "4         0       3  ...     0     0\n",
       "5         0       1  ...     0     0\n",
       "6         0       3  ...     3     1\n",
       "7         1       3  ...     0     2\n",
       "8         1       2  ...     1     0\n",
       "9         1       3  ...     1     1\n",
       "\n",
       "[10 rows x 8 columns]"
      ]
     },
     "execution_count": 4,
     "metadata": {},
     "output_type": "execute_result"
    }
   ],
   "source": [
    "# browse df\n",
    "df.head(10)"
   ]
  },
  {
   "cell_type": "code",
   "execution_count": 5,
   "id": "de5c5185",
   "metadata": {},
   "outputs": [
    {
     "data": {
      "text/plain": [
       "survived      int64\n",
       "pclass        int64\n",
       "name         object\n",
       "sex          object\n",
       "age         float64\n",
       "fare        float64\n",
       "sibsp         int64\n",
       "parch         int64\n",
       "dtype: object"
      ]
     },
     "execution_count": 5,
     "metadata": {},
     "output_type": "execute_result"
    }
   ],
   "source": [
    "# check data types of df\n",
    "df.dtypes"
   ]
  },
  {
   "cell_type": "markdown",
   "id": "cf2615c7",
   "metadata": {},
   "source": [
    "## We'll Create a simple DataFrameSchema for the Titanic Dataset\n",
    "\n",
    "### We'll use these datatypes:\n",
    "\n",
    "- survived: int\n",
    "- pclass: int\n",
    "- name: str\n",
    "- sex: str\n",
    "- age: float\n",
    "- fare: float\n",
    "- sibsp: int\n",
    "- parch: int"
   ]
  },
  {
   "cell_type": "code",
   "execution_count": null,
   "id": "5e2e32a5",
   "metadata": {},
   "outputs": [],
   "source": [
    "# Create simple DataFrameSchema for titanic dataset\n",
    "\n",
    "schema = DataFrameSchema(\n",
    "                            {\"survived\": Column(int),\n",
    "                             \"pclass\": Column(int),\n",
    "                             \"name\": Column(str),\n",
    "                             \"sex\": Column(str),\n",
    "                             \"age\": Column(float),\n",
    "                             \"fare\": Column(float),\n",
    "                             \"sibsp\": Column(int),\n",
    "                             \"parch\": Column(int)\n",
    "                            }\n",
    "                        )"
   ]
  },
  {
   "cell_type": "code",
   "execution_count": 8,
   "id": "95e1543c",
   "metadata": {},
   "outputs": [
    {
     "name": "stdout",
     "output_type": "stream",
     "text": [
      "Validated!\n"
     ]
    }
   ],
   "source": [
    "try:\n",
    "    schema.validate(df)\n",
    "    print('Validated!')\n",
    "except pa.errors.SchemaError as schema_error:\n",
    "    print(schema_error)"
   ]
  },
  {
   "cell_type": "markdown",
   "id": "a654ca4f",
   "metadata": {},
   "source": [
    "## Column-Level Rules"
   ]
  },
  {
   "cell_type": "markdown",
   "id": "2cba6709",
   "metadata": {},
   "source": [
    "### Testing for Presence/Absence of Columns\n",
    "- required = True (default)\n",
    "- required = False (allows absence of column)"
   ]
  },
  {
   "cell_type": "code",
   "execution_count": 9,
   "id": "c09049dd",
   "metadata": {},
   "outputs": [
    {
     "name": "stdout",
     "output_type": "stream",
     "text": [
      "column 'survived' not in dataframe. Columns in dataframe: ['pclass', 'name', 'sex', 'age', 'fare', 'sibsp', 'parch']\n"
     ]
    }
   ],
   "source": [
    "# By default, all columns specified by schema are required\n",
    "# implicit 'required = True'\n",
    "\n",
    "try:\n",
    "    schema.validate(df.drop('survived', axis = 1))\n",
    "    print('Validated!')\n",
    "except pa.errors.SchemaError as schema_error:\n",
    "    print(schema_error)"
   ]
  },
  {
   "cell_type": "code",
   "execution_count": 10,
   "id": "c47a1164",
   "metadata": {},
   "outputs": [],
   "source": [
    "# change the schema using required = False \n",
    "# for given the column makes it optional\n",
    "schema = DataFrameSchema(\n",
    "                            {\"survived\": Column(int, required=False),\n",
    "                             \"pclass\": Column(int),\n",
    "                             \"name\": Column(str),\n",
    "                             \"sex\": Column(str),\n",
    "                             \"age\": Column(float),\n",
    "                             \"fare\": Column(float),\n",
    "                             \"sibsp\": Column(int),\n",
    "                             \"parch\": Column(int)\n",
    "                            }\n",
    "                        )"
   ]
  },
  {
   "cell_type": "code",
   "execution_count": 12,
   "id": "737136d1",
   "metadata": {},
   "outputs": [
    {
     "name": "stdout",
     "output_type": "stream",
     "text": [
      "Validated!\n"
     ]
    }
   ],
   "source": [
    "# after change to schema, we can validate the dataframe with missing column\n",
    "\n",
    "try:\n",
    "    schema.validate(df.drop('survived', axis = 1))\n",
    "    print('Validated!')\n",
    "except pa.errors.SchemaError as schema_error:\n",
    "    print(schema_error)"
   ]
  },
  {
   "cell_type": "markdown",
   "id": "efd51f55",
   "metadata": {},
   "source": [
    "### Testing for Data Type of Column"
   ]
  },
  {
   "cell_type": "code",
   "execution_count": 13,
   "id": "4da19c21",
   "metadata": {},
   "outputs": [
    {
     "name": "stdout",
     "output_type": "stream",
     "text": [
      "expected series 'age' to have type float64, got object\n"
     ]
    }
   ],
   "source": [
    "# What if I change the data type of the pclass column to str \n",
    "# and try to validate the df with our schema?\n",
    "df['age'] = df['age'].astype(str)\n",
    "\n",
    "try:\n",
    "    schema.validate(df)\n",
    "    print('Validated!')\n",
    "except pa.errors.SchemaError as schema_error:\n",
    "    print(schema_error)"
   ]
  },
  {
   "cell_type": "code",
   "execution_count": 15,
   "id": "88e681a6",
   "metadata": {},
   "outputs": [
    {
     "name": "stdout",
     "output_type": "stream",
     "text": [
      "Validated!\n"
     ]
    }
   ],
   "source": [
    "# Let's revert the data type of pclass to be int as expected by schema\n",
    "df['age'] = df['age'].astype(float)\n",
    "\n",
    "try:\n",
    "    schema.validate(df)\n",
    "    print('Validated!')\n",
    "except pa.errors.SchemaError as schema_error:\n",
    "    print(schema_error)"
   ]
  },
  {
   "cell_type": "markdown",
   "id": "16f95fa9",
   "metadata": {},
   "source": [
    "### Testing for Null Values in Column"
   ]
  },
  {
   "cell_type": "code",
   "execution_count": null,
   "id": "5439e45c",
   "metadata": {},
   "outputs": [
    {
     "data": {
      "text/plain": [
       "survived    0\n",
       "pclass      0\n",
       "name        0\n",
       "sex         0\n",
       "age         0\n",
       "fare        0\n",
       "sibsp       0\n",
       "parch       0\n",
       "dtype: int64"
      ]
     },
     "execution_count": 19,
     "metadata": {},
     "output_type": "execute_result"
    }
   ],
   "source": [
    "# show there are no null values\n",
    "df.isnull().sum()"
   ]
  },
  {
   "cell_type": "code",
   "execution_count": 20,
   "id": "a6ef8ab7",
   "metadata": {},
   "outputs": [
    {
     "data": {
      "text/plain": [
       "0    22.0\n",
       "1    38.0\n",
       "2    26.0\n",
       "3    35.0\n",
       "4    35.0\n",
       "Name: age, dtype: float64"
      ]
     },
     "execution_count": 20,
     "metadata": {},
     "output_type": "execute_result"
    }
   ],
   "source": [
    "df['age'].head()"
   ]
  },
  {
   "cell_type": "code",
   "execution_count": 22,
   "id": "65dc6197",
   "metadata": {},
   "outputs": [
    {
     "data": {
      "text/plain": [
       "0     NaN\n",
       "1    38.0\n",
       "2    26.0\n",
       "3    35.0\n",
       "4    35.0\n",
       "Name: age, dtype: float64"
      ]
     },
     "execution_count": 22,
     "metadata": {},
     "output_type": "execute_result"
    }
   ],
   "source": [
    "# by default, null values won't validate\n",
    "\n",
    "df.loc[0, 'age'] = None\n",
    "df['age'].head()"
   ]
  },
  {
   "cell_type": "code",
   "execution_count": 23,
   "id": "51e6e12e",
   "metadata": {},
   "outputs": [
    {
     "name": "stdout",
     "output_type": "stream",
     "text": [
      "non-nullable series 'age' contains null values:\n",
      "0   NaN\n",
      "Name: age, dtype: float64\n"
     ]
    }
   ],
   "source": [
    "try:\n",
    "    schema.validate(df)\n",
    "    print('Validated!')\n",
    "except pa.errors.SchemaError as schema_error:\n",
    "    print(schema_error)"
   ]
  },
  {
   "cell_type": "code",
   "execution_count": 24,
   "id": "4d5b1058",
   "metadata": {},
   "outputs": [],
   "source": [
    "# use of nullable = True\n",
    "# allows null values to pass validation\n",
    "# change the schema using required = False \n",
    "# for given the column makes it optional\n",
    "schema = DataFrameSchema(\n",
    "                            {\"survived\": Column(int),\n",
    "                             \"pclass\": Column(int),\n",
    "                             \"name\": Column(str),\n",
    "                             \"sex\": Column(str),\n",
    "                             \"age\": Column(float, nullable=True),\n",
    "                             \"fare\": Column(float),\n",
    "                             \"sibsp\": Column(int),\n",
    "                             \"parch\": Column(int)\n",
    "                            }\n",
    "                        )"
   ]
  },
  {
   "cell_type": "code",
   "execution_count": 25,
   "id": "077fecaa",
   "metadata": {},
   "outputs": [
    {
     "name": "stdout",
     "output_type": "stream",
     "text": [
      "Validated!\n"
     ]
    }
   ],
   "source": [
    "try:\n",
    "    schema.validate(df)\n",
    "    print('Validated!')\n",
    "except pa.errors.SchemaError as schema_error:\n",
    "    print(schema_error)"
   ]
  },
  {
   "cell_type": "code",
   "execution_count": 27,
   "id": "ad77a9d1",
   "metadata": {},
   "outputs": [
    {
     "data": {
      "text/plain": [
       "0    22.0\n",
       "1    38.0\n",
       "2    26.0\n",
       "3    35.0\n",
       "4    35.0\n",
       "Name: age, dtype: float64"
      ]
     },
     "execution_count": 27,
     "metadata": {},
     "output_type": "execute_result"
    }
   ],
   "source": [
    "df.loc[0, 'age'] = 22.0\n",
    "df['age'].head()"
   ]
  },
  {
   "cell_type": "markdown",
   "id": "283741dc",
   "metadata": {},
   "source": [
    "### Testing that Values Are Greater Than/Less Than Specific Value"
   ]
  },
  {
   "cell_type": "code",
   "execution_count": 28,
   "id": "5aed191b",
   "metadata": {},
   "outputs": [
    {
     "name": "stdout",
     "output_type": "stream",
     "text": [
      "Validated!\n"
     ]
    }
   ],
   "source": [
    "schema = DataFrameSchema(\n",
    "                            {\"survived\": Column(int), \n",
    "                             \"pclass\": Column(int),\n",
    "                             \"name\": Column(str),\n",
    "                             \"sex\": Column(str),\n",
    "                             \"age\": Column(float, Check.less_than_or_equal_to(125)),\n",
    "                             \"fare\": Column(float),\n",
    "                             \"sibsp\": Column(int),\n",
    "                             \"parch\": Column(int)\n",
    "                            }\n",
    "                        )\n",
    "\n",
    "try:\n",
    "    schema.validate(df)\n",
    "    print('Validated!')\n",
    "except pa.errors.SchemaError as schema_error:\n",
    "    print(schema_error)"
   ]
  },
  {
   "cell_type": "markdown",
   "id": "876b8954",
   "metadata": {},
   "source": [
    "### Testing that Values Are In a Specific Range"
   ]
  },
  {
   "cell_type": "code",
   "execution_count": null,
   "id": "2ba0b0e6",
   "metadata": {},
   "outputs": [],
   "source": [
    "schema = DataFrameSchema(\n",
    "                            {\"survived\": Column(int), \n",
    "                             \"pclass\": Column(int),\n",
    "                             \"name\": Column(str),\n",
    "                             \"sex\": Column(str),\n",
    "                             \"age\": Column(float, Check.between(0, 125, include_min=True, include_max=True)),\n",
    "                             \"fare\": Column(float),\n",
    "                             \"sibsp\": Column(int),\n",
    "                             \"parch\": Column(int)\n",
    "                            }\n",
    "                        )\n",
    "\n",
    "try:\n",
    "    schema.validate(df)\n",
    "    print('Validated!')\n",
    "except pa.errors.SchemaError as schema_error:\n",
    "    print(schema_error)"
   ]
  },
  {
   "cell_type": "markdown",
   "id": "edc53533",
   "metadata": {},
   "source": [
    "### Testing that Values in Column are Members of Specified Set"
   ]
  },
  {
   "cell_type": "code",
   "execution_count": 34,
   "id": "63fc6563",
   "metadata": {},
   "outputs": [
    {
     "name": "stdout",
     "output_type": "stream",
     "text": [
      "Validated!\n"
     ]
    }
   ],
   "source": [
    "schema = DataFrameSchema(\n",
    "                            {\"survived\": Column(int), \n",
    "                             \"pclass\": Column(int, Check.isin([1, 2, 3])),\n",
    "                             \"name\": Column(str),\n",
    "                             \"sex\": Column(str),\n",
    "                             \"age\": Column(float),\n",
    "                             \"fare\": Column(float),\n",
    "                             \"sibsp\": Column(int),\n",
    "                             \"parch\": Column(int)\n",
    "                            }\n",
    "                        )\n",
    "\n",
    "try:\n",
    "    schema.validate(df)\n",
    "    print('Validated!')\n",
    "except pa.errors.SchemaError as schema_error:\n",
    "    print(schema_error)"
   ]
  },
  {
   "cell_type": "markdown",
   "id": "ab687767",
   "metadata": {},
   "source": [
    "### Custom Tests on Column"
   ]
  },
  {
   "cell_type": "code",
   "execution_count": null,
   "id": "3be5a0ac",
   "metadata": {},
   "outputs": [],
   "source": [
    "schema = DataFrameSchema(\n",
    "                            {\"survived\": Column(int), \n",
    "                             \"pclass\": Column(int),\n",
    "                             \"name\": Column(str),\n",
    "                             \"sex\": Column(str),\n",
    "                             \"age\": Column(float),\n",
    "                             \"fare\": Column(float),\n",
    "                             \"sibsp\": Column(int),\n",
    "                             \"parch\": Column(int)\n",
    "                            }\n",
    "                        )"
   ]
  },
  {
   "cell_type": "markdown",
   "id": "ca2b1aff",
   "metadata": {},
   "source": [
    "### More Sophisticated Tests on Columns are Possible\n",
    "\n",
    "- Using hypothesis package and scipy for statistical tests\n",
    "  - Detecting data drift\n",
    "- Checks involving multiple columns at once"
   ]
  },
  {
   "cell_type": "markdown",
   "id": "819d9009",
   "metadata": {},
   "source": [
    "### Element-Wise vs Vectorized Column Checks"
   ]
  },
  {
   "cell_type": "markdown",
   "id": "ae9d72ce",
   "metadata": {},
   "source": [
    "## Dataframe-Level Rules"
   ]
  },
  {
   "cell_type": "markdown",
   "id": "6d7e9652",
   "metadata": {},
   "source": [
    "### Testing Presence/Absence of All Columns\n",
    "\n",
    "- Used for enforcing at dataframe level presence/absence of columns\n",
    "- Only columns listed in schema can be present\n",
    "  - strict = True"
   ]
  },
  {
   "cell_type": "markdown",
   "id": "c30475d7",
   "metadata": {},
   "source": [
    "### Testing Order of Cols\n",
    "\n",
    "- Used for enforcing column order specified in schema\n",
    "  - ordered = True"
   ]
  },
  {
   "cell_type": "markdown",
   "id": "0ab388a1",
   "metadata": {},
   "source": [
    "### Testing Uniqueness of Columns"
   ]
  },
  {
   "cell_type": "markdown",
   "id": "de771b4e",
   "metadata": {},
   "source": [
    "### Removing Unspecified Columns\n",
    "  - strict = 'filter'"
   ]
  },
  {
   "cell_type": "markdown",
   "id": "0266376a",
   "metadata": {},
   "source": [
    "### Adding Missing Columns\n",
    "- add_missing_columns = True"
   ]
  },
  {
   "cell_type": "markdown",
   "id": "f13f6e1c",
   "metadata": {},
   "source": [
    "### Removing Invalid Rows\n",
    "\n",
    "- drop_invalid_rows = True"
   ]
  },
  {
   "cell_type": "markdown",
   "id": "1ffdf46a",
   "metadata": {},
   "source": [
    "## DataFrameSchema Transformations\n",
    "- schema.add_columns()\n",
    "- schema.remove_columns()\n",
    "- schema.update_columns()\n",
    "- schema.rename_columns()\n",
    "- schema.set_index()\n",
    "- schema.reset_index()"
   ]
  },
  {
   "cell_type": "code",
   "execution_count": null,
   "id": "d5fd1f24",
   "metadata": {},
   "outputs": [],
   "source": []
  },
  {
   "cell_type": "markdown",
   "id": "03a5ef86",
   "metadata": {},
   "source": [
    "## Pandera can attempt to infer a schema automatically"
   ]
  },
  {
   "cell_type": "code",
   "execution_count": null,
   "id": "1c6dc025",
   "metadata": {},
   "outputs": [],
   "source": [
    "#%%\n",
    "# have pandera automatically infer the DataFrameSchema from the dataframe\n",
    "schema_inferred = pa.infer_schema(df)\n",
    "\n",
    "#%%\n",
    "# inspect DataFrameSchmea\n",
    "print(schema_inferred)"
   ]
  },
  {
   "cell_type": "markdown",
   "id": "f7402a32",
   "metadata": {},
   "source": [
    "## Lazy Validation and Generating Error Reports\n",
    "- Lazy Validation\n",
    "  - By default, first failed check/test raises error\n",
    "  - If lazy = True, Waits for all checks/tests to be performed so you can see all errors that are raised\n",
    "  - schema.validate(df, lazy = True)\n"
   ]
  },
  {
   "cell_type": "markdown",
   "id": "e5778d14",
   "metadata": {},
   "source": [
    "## Saving Schema Specifications\n",
    "- Schema specifications can be saved to file\n",
    "  - .py \n",
    "  - .yaml Files"
   ]
  },
  {
   "cell_type": "code",
   "execution_count": null,
   "id": "832d7deb",
   "metadata": {},
   "outputs": [],
   "source": [
    "# storing schema specification as python script\n",
    "schema.to_script('../schemas/titanic_schema_inferred.py')\n",
    "\n",
    "# storing schema specification as yaml file\n",
    "schema.to_yaml('../schemas/titanic_schema_inferred.yaml')"
   ]
  },
  {
   "cell_type": "markdown",
   "id": "d00253a7",
   "metadata": {},
   "source": [
    "## Using Pandera decorators for easy integration of data validation into data pipelines"
   ]
  },
  {
   "cell_type": "markdown",
   "id": "2cb70c96",
   "metadata": {},
   "source": [
    "### What's a decorator?\n",
    "- a function (higher-order function) that modifies the behavior of a function without direct changing the code in the function or class\n",
    "- essentially a wrapper that can be used to extend/alter original function\n",
    "- denoted in python by the @ symbol"
   ]
  },
  {
   "cell_type": "code",
   "execution_count": null,
   "id": "a22ebbe7",
   "metadata": {},
   "outputs": [],
   "source": [
    "# toy example of what a decorated function looks like\n",
    "@my_decorator\n",
    "def my_function():\n",
    "    pass\n",
    "\n",
    "# behind the scenes, the function is modified by decorator\n",
    "def my_function():\n",
    "    pass\n",
    "my_function = my_decorator(my_function)"
   ]
  },
  {
   "cell_type": "markdown",
   "id": "9893c362",
   "metadata": {},
   "source": [
    "### Pandera Decorators\n",
    "- @check_input\n",
    "- @check_output\n",
    "- @check_io"
   ]
  }
 ],
 "metadata": {
  "kernelspec": {
   "display_name": "Python 3",
   "language": "python",
   "name": "python3"
  },
  "language_info": {
   "codemirror_mode": {
    "name": "ipython",
    "version": 3
   },
   "file_extension": ".py",
   "mimetype": "text/x-python",
   "name": "python",
   "nbconvert_exporter": "python",
   "pygments_lexer": "ipython3",
   "version": "3.12.1"
  }
 },
 "nbformat": 4,
 "nbformat_minor": 5
}
