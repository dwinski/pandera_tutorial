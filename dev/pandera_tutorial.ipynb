{
 "cells": [
  {
   "cell_type": "markdown",
   "id": "e78cbd31",
   "metadata": {},
   "source": [
    "# A Brief Intro to Data Validation in Python with Pandera"
   ]
  },
  {
   "cell_type": "markdown",
   "id": "083d1ac5",
   "metadata": {},
   "source": [
    "## Pandera is Data Validation Package for Python\n",
    "\n",
    "- https://pandera.readthedocs.io/en/latest/index.html#\n",
    "- Checks data in dataframes against schema (set of rules) \n",
    "- Schema (DataFrameSchema object) contains suite of tests that you specify\n",
    "- You test data in dataframe against schema to see if it conforms to expectations\n",
    "- Can be used with dataframes from:\n",
    "  - pandas\n",
    "  - polars\n",
    "  - PySpark SQL\n",
    "- A lot of functionality, we'll just cover basics here\n",
    "- \"validate\" package for R is similar:\n",
    "  - https://cran.r-project.org/web/packages/validate/vignettes/cookbook.html"
   ]
  },
  {
   "cell_type": "code",
   "execution_count": 1,
   "id": "fa0424d2",
   "metadata": {},
   "outputs": [],
   "source": [
    "import pandas as pd\n",
    "import pandera as pa\n",
    "from pandera import Column, DataFrameSchema, Check\n",
    "import json"
   ]
  },
  {
   "cell_type": "markdown",
   "id": "2cfa56dd",
   "metadata": {},
   "source": [
    "### We'll use the Titanic Dataset for this Brief Tutorial"
   ]
  },
  {
   "cell_type": "code",
   "execution_count": 2,
   "id": "6094d549",
   "metadata": {},
   "outputs": [],
   "source": [
    "# read in titanic dataset \n",
    "df = pd.read_csv('../datasets/titanic.csv')"
   ]
  },
  {
   "cell_type": "code",
   "execution_count": 3,
   "id": "2d940816",
   "metadata": {},
   "outputs": [
    {
     "data": {
      "text/html": [
       "<div>\n",
       "<style scoped>\n",
       "    .dataframe tbody tr th:only-of-type {\n",
       "        vertical-align: middle;\n",
       "    }\n",
       "\n",
       "    .dataframe tbody tr th {\n",
       "        vertical-align: top;\n",
       "    }\n",
       "\n",
       "    .dataframe thead th {\n",
       "        text-align: right;\n",
       "    }\n",
       "</style>\n",
       "<table border=\"1\" class=\"dataframe\">\n",
       "  <thead>\n",
       "    <tr style=\"text-align: right;\">\n",
       "      <th></th>\n",
       "      <th>survived</th>\n",
       "      <th>pclass</th>\n",
       "      <th>name</th>\n",
       "      <th>sex</th>\n",
       "      <th>age</th>\n",
       "      <th>fare</th>\n",
       "      <th>sibsp</th>\n",
       "      <th>parch</th>\n",
       "    </tr>\n",
       "  </thead>\n",
       "  <tbody>\n",
       "    <tr>\n",
       "      <th>0</th>\n",
       "      <td>0</td>\n",
       "      <td>3</td>\n",
       "      <td>Braund, Mr. Owen Harris</td>\n",
       "      <td>male</td>\n",
       "      <td>22.0</td>\n",
       "      <td>7.2500</td>\n",
       "      <td>1</td>\n",
       "      <td>0</td>\n",
       "    </tr>\n",
       "    <tr>\n",
       "      <th>1</th>\n",
       "      <td>1</td>\n",
       "      <td>1</td>\n",
       "      <td>Cumings, Mrs. John Bradley (Florence Briggs Th...</td>\n",
       "      <td>female</td>\n",
       "      <td>38.0</td>\n",
       "      <td>71.2833</td>\n",
       "      <td>1</td>\n",
       "      <td>0</td>\n",
       "    </tr>\n",
       "    <tr>\n",
       "      <th>2</th>\n",
       "      <td>1</td>\n",
       "      <td>3</td>\n",
       "      <td>Heikkinen, Miss. Laina</td>\n",
       "      <td>female</td>\n",
       "      <td>26.0</td>\n",
       "      <td>7.9250</td>\n",
       "      <td>0</td>\n",
       "      <td>0</td>\n",
       "    </tr>\n",
       "    <tr>\n",
       "      <th>3</th>\n",
       "      <td>1</td>\n",
       "      <td>1</td>\n",
       "      <td>Futrelle, Mrs. Jacques Heath (Lily May Peel)</td>\n",
       "      <td>female</td>\n",
       "      <td>35.0</td>\n",
       "      <td>53.1000</td>\n",
       "      <td>1</td>\n",
       "      <td>0</td>\n",
       "    </tr>\n",
       "    <tr>\n",
       "      <th>4</th>\n",
       "      <td>0</td>\n",
       "      <td>3</td>\n",
       "      <td>Allen, Mr. William Henry</td>\n",
       "      <td>male</td>\n",
       "      <td>35.0</td>\n",
       "      <td>8.0500</td>\n",
       "      <td>0</td>\n",
       "      <td>0</td>\n",
       "    </tr>\n",
       "    <tr>\n",
       "      <th>5</th>\n",
       "      <td>0</td>\n",
       "      <td>1</td>\n",
       "      <td>McCarthy, Mr. Timothy J</td>\n",
       "      <td>male</td>\n",
       "      <td>54.0</td>\n",
       "      <td>51.8625</td>\n",
       "      <td>0</td>\n",
       "      <td>0</td>\n",
       "    </tr>\n",
       "    <tr>\n",
       "      <th>6</th>\n",
       "      <td>0</td>\n",
       "      <td>3</td>\n",
       "      <td>Palsson, Master. Gosta Leonard</td>\n",
       "      <td>male</td>\n",
       "      <td>2.0</td>\n",
       "      <td>21.0750</td>\n",
       "      <td>3</td>\n",
       "      <td>1</td>\n",
       "    </tr>\n",
       "    <tr>\n",
       "      <th>7</th>\n",
       "      <td>1</td>\n",
       "      <td>3</td>\n",
       "      <td>Johnson, Mrs. Oscar W (Elisabeth Vilhelmina Berg)</td>\n",
       "      <td>female</td>\n",
       "      <td>27.0</td>\n",
       "      <td>11.1333</td>\n",
       "      <td>0</td>\n",
       "      <td>2</td>\n",
       "    </tr>\n",
       "    <tr>\n",
       "      <th>8</th>\n",
       "      <td>1</td>\n",
       "      <td>2</td>\n",
       "      <td>Nasser, Mrs. Nicholas (Adele Achem)</td>\n",
       "      <td>female</td>\n",
       "      <td>14.0</td>\n",
       "      <td>30.0708</td>\n",
       "      <td>1</td>\n",
       "      <td>0</td>\n",
       "    </tr>\n",
       "    <tr>\n",
       "      <th>9</th>\n",
       "      <td>1</td>\n",
       "      <td>3</td>\n",
       "      <td>Sandstrom, Miss. Marguerite Rut</td>\n",
       "      <td>female</td>\n",
       "      <td>4.0</td>\n",
       "      <td>16.7000</td>\n",
       "      <td>1</td>\n",
       "      <td>1</td>\n",
       "    </tr>\n",
       "  </tbody>\n",
       "</table>\n",
       "</div>"
      ],
      "text/plain": [
       "   survived  pclass                                               name  \\\n",
       "0         0       3                            Braund, Mr. Owen Harris   \n",
       "1         1       1  Cumings, Mrs. John Bradley (Florence Briggs Th...   \n",
       "2         1       3                             Heikkinen, Miss. Laina   \n",
       "3         1       1       Futrelle, Mrs. Jacques Heath (Lily May Peel)   \n",
       "4         0       3                           Allen, Mr. William Henry   \n",
       "5         0       1                            McCarthy, Mr. Timothy J   \n",
       "6         0       3                     Palsson, Master. Gosta Leonard   \n",
       "7         1       3  Johnson, Mrs. Oscar W (Elisabeth Vilhelmina Berg)   \n",
       "8         1       2                Nasser, Mrs. Nicholas (Adele Achem)   \n",
       "9         1       3                    Sandstrom, Miss. Marguerite Rut   \n",
       "\n",
       "      sex   age     fare  sibsp  parch  \n",
       "0    male  22.0   7.2500      1      0  \n",
       "1  female  38.0  71.2833      1      0  \n",
       "2  female  26.0   7.9250      0      0  \n",
       "3  female  35.0  53.1000      1      0  \n",
       "4    male  35.0   8.0500      0      0  \n",
       "5    male  54.0  51.8625      0      0  \n",
       "6    male   2.0  21.0750      3      1  \n",
       "7  female  27.0  11.1333      0      2  \n",
       "8  female  14.0  30.0708      1      0  \n",
       "9  female   4.0  16.7000      1      1  "
      ]
     },
     "execution_count": 3,
     "metadata": {},
     "output_type": "execute_result"
    }
   ],
   "source": [
    "# browse df\n",
    "df.head(10)"
   ]
  },
  {
   "cell_type": "code",
   "execution_count": 4,
   "id": "de5c5185",
   "metadata": {},
   "outputs": [
    {
     "data": {
      "text/plain": [
       "survived      int64\n",
       "pclass        int64\n",
       "name         object\n",
       "sex          object\n",
       "age         float64\n",
       "fare        float64\n",
       "sibsp         int64\n",
       "parch         int64\n",
       "dtype: object"
      ]
     },
     "execution_count": 4,
     "metadata": {},
     "output_type": "execute_result"
    }
   ],
   "source": [
    "# check data types of df\n",
    "df.dtypes"
   ]
  },
  {
   "cell_type": "markdown",
   "id": "cf2615c7",
   "metadata": {},
   "source": [
    "## We'll Create a simple DataFrameSchema for the Titanic Dataset\n",
    "\n",
    "### We'll use these datatypes:\n",
    "\n",
    "- survived: int\n",
    "- pclass: int\n",
    "- name: str\n",
    "- sex: str\n",
    "- age: float\n",
    "- fare: float\n",
    "- sibsp: int\n",
    "- parch: int"
   ]
  },
  {
   "cell_type": "code",
   "execution_count": 5,
   "id": "5e2e32a5",
   "metadata": {},
   "outputs": [],
   "source": [
    "# Create simple DataFrameSchema for titanic dataset\n",
    "\n",
    "schema = DataFrameSchema(\n",
    "                            {\"survived\": Column(int),\n",
    "                             \"pclass\": Column(int),\n",
    "                             \"name\": Column(str),\n",
    "                             \"sex\": Column(str),\n",
    "                             \"age\": Column(float),\n",
    "                             \"fare\": Column(float),\n",
    "                             \"sibsp\": Column(int),\n",
    "                             \"parch\": Column(int)\n",
    "                            }\n",
    "                        )"
   ]
  },
  {
   "cell_type": "code",
   "execution_count": 6,
   "id": "95e1543c",
   "metadata": {},
   "outputs": [
    {
     "name": "stdout",
     "output_type": "stream",
     "text": [
      "Validated!\n"
     ]
    }
   ],
   "source": [
    "try:\n",
    "    schema.validate(df)\n",
    "    print('Validated!')\n",
    "except pa.errors.SchemaError as schema_error:\n",
    "    print(schema_error)"
   ]
  },
  {
   "cell_type": "markdown",
   "id": "a654ca4f",
   "metadata": {},
   "source": [
    "## Column-Level Rules"
   ]
  },
  {
   "cell_type": "markdown",
   "id": "2cba6709",
   "metadata": {},
   "source": [
    "### Testing for Presence/Absence of Columns\n",
    "- required = True (default)\n",
    "- required = False (allows absence of column)"
   ]
  },
  {
   "cell_type": "code",
   "execution_count": 7,
   "id": "c09049dd",
   "metadata": {},
   "outputs": [
    {
     "name": "stdout",
     "output_type": "stream",
     "text": [
      "column 'survived' not in dataframe. Columns in dataframe: ['pclass', 'name', 'sex', 'age', 'fare', 'sibsp', 'parch']\n"
     ]
    }
   ],
   "source": [
    "# By default, all columns specified by schema are required\n",
    "# implicit 'required = True'\n",
    "\n",
    "try:\n",
    "    schema.validate(df.drop('survived', axis = 1))\n",
    "    print('Validated!')\n",
    "except pa.errors.SchemaError as schema_error:\n",
    "    print(schema_error)"
   ]
  },
  {
   "cell_type": "code",
   "execution_count": 8,
   "id": "c47a1164",
   "metadata": {},
   "outputs": [],
   "source": [
    "# change the schema using required = False \n",
    "# for given the column makes it optional\n",
    "schema = DataFrameSchema(\n",
    "                            {\"survived\": Column(int, required=False),\n",
    "                             \"pclass\": Column(int),\n",
    "                             \"name\": Column(str),\n",
    "                             \"sex\": Column(str),\n",
    "                             \"age\": Column(float),\n",
    "                             \"fare\": Column(float),\n",
    "                             \"sibsp\": Column(int),\n",
    "                             \"parch\": Column(int)\n",
    "                            }\n",
    "                        )"
   ]
  },
  {
   "cell_type": "code",
   "execution_count": 9,
   "id": "737136d1",
   "metadata": {},
   "outputs": [
    {
     "name": "stdout",
     "output_type": "stream",
     "text": [
      "Validated!\n"
     ]
    }
   ],
   "source": [
    "# after change to schema, we can validate the dataframe with missing column\n",
    "\n",
    "try:\n",
    "    schema.validate(df.drop('survived', axis = 1))\n",
    "    print('Validated!')\n",
    "except pa.errors.SchemaError as schema_error:\n",
    "    print(schema_error)"
   ]
  },
  {
   "cell_type": "markdown",
   "id": "efd51f55",
   "metadata": {},
   "source": [
    "### Testing for Data Type of Column"
   ]
  },
  {
   "cell_type": "code",
   "execution_count": null,
   "id": "4da19c21",
   "metadata": {},
   "outputs": [
    {
     "name": "stdout",
     "output_type": "stream",
     "text": [
      "expected series 'age' to have type float64, got object\n"
     ]
    }
   ],
   "source": [
    "# What if I change the data type of the age column to str \n",
    "# and try to validate the df with our schema?\n",
    "df['age'] = df['age'].astype(str)\n",
    "\n",
    "try:\n",
    "    schema.validate(df)\n",
    "    print('Validated!')\n",
    "except pa.errors.SchemaError as schema_error:\n",
    "    print(schema_error)"
   ]
  },
  {
   "cell_type": "code",
   "execution_count": 11,
   "id": "88e681a6",
   "metadata": {},
   "outputs": [
    {
     "name": "stdout",
     "output_type": "stream",
     "text": [
      "Validated!\n"
     ]
    }
   ],
   "source": [
    "# Let's revert the data type of pclass to be int as expected by schema\n",
    "df['age'] = df['age'].astype(float)\n",
    "\n",
    "try:\n",
    "    schema.validate(df)\n",
    "    print('Validated!')\n",
    "except pa.errors.SchemaError as schema_error:\n",
    "    print(schema_error)"
   ]
  },
  {
   "cell_type": "markdown",
   "id": "16f95fa9",
   "metadata": {},
   "source": [
    "### Testing for Null Values in Column"
   ]
  },
  {
   "cell_type": "code",
   "execution_count": 12,
   "id": "5439e45c",
   "metadata": {},
   "outputs": [
    {
     "data": {
      "text/plain": [
       "survived    0\n",
       "pclass      0\n",
       "name        0\n",
       "sex         0\n",
       "age         0\n",
       "fare        0\n",
       "sibsp       0\n",
       "parch       0\n",
       "dtype: int64"
      ]
     },
     "execution_count": 12,
     "metadata": {},
     "output_type": "execute_result"
    }
   ],
   "source": [
    "# show there are no null values\n",
    "df.isnull().sum()"
   ]
  },
  {
   "cell_type": "code",
   "execution_count": 13,
   "id": "a6ef8ab7",
   "metadata": {},
   "outputs": [
    {
     "data": {
      "text/plain": [
       "0    22.0\n",
       "1    38.0\n",
       "2    26.0\n",
       "3    35.0\n",
       "4    35.0\n",
       "Name: age, dtype: float64"
      ]
     },
     "execution_count": 13,
     "metadata": {},
     "output_type": "execute_result"
    }
   ],
   "source": [
    "df['age'].head()"
   ]
  },
  {
   "cell_type": "code",
   "execution_count": 14,
   "id": "65dc6197",
   "metadata": {},
   "outputs": [
    {
     "data": {
      "text/plain": [
       "0     NaN\n",
       "1    38.0\n",
       "2    26.0\n",
       "3    35.0\n",
       "4    35.0\n",
       "Name: age, dtype: float64"
      ]
     },
     "execution_count": 14,
     "metadata": {},
     "output_type": "execute_result"
    }
   ],
   "source": [
    "# by default, null values won't validate\n",
    "\n",
    "df.loc[0, 'age'] = None\n",
    "df['age'].head()"
   ]
  },
  {
   "cell_type": "code",
   "execution_count": 15,
   "id": "51e6e12e",
   "metadata": {},
   "outputs": [
    {
     "name": "stdout",
     "output_type": "stream",
     "text": [
      "non-nullable series 'age' contains null values:\n",
      "0   NaN\n",
      "Name: age, dtype: float64\n"
     ]
    }
   ],
   "source": [
    "try:\n",
    "    schema.validate(df)\n",
    "    print('Validated!')\n",
    "except pa.errors.SchemaError as schema_error:\n",
    "    print(schema_error)"
   ]
  },
  {
   "cell_type": "code",
   "execution_count": 16,
   "id": "4d5b1058",
   "metadata": {},
   "outputs": [],
   "source": [
    "# use of nullable = True\n",
    "# allows null values to pass validation\n",
    "schema = DataFrameSchema(\n",
    "                            {\"survived\": Column(int),\n",
    "                             \"pclass\": Column(int),\n",
    "                             \"name\": Column(str),\n",
    "                             \"sex\": Column(str),\n",
    "                             \"age\": Column(float, nullable=True),\n",
    "                             \"fare\": Column(float),\n",
    "                             \"sibsp\": Column(int),\n",
    "                             \"parch\": Column(int)\n",
    "                            }\n",
    "                        )"
   ]
  },
  {
   "cell_type": "code",
   "execution_count": 17,
   "id": "077fecaa",
   "metadata": {},
   "outputs": [
    {
     "name": "stdout",
     "output_type": "stream",
     "text": [
      "Validated!\n"
     ]
    }
   ],
   "source": [
    "try:\n",
    "    schema.validate(df)\n",
    "    print('Validated!')\n",
    "except pa.errors.SchemaError as schema_error:\n",
    "    print(schema_error)"
   ]
  },
  {
   "cell_type": "code",
   "execution_count": 18,
   "id": "ad77a9d1",
   "metadata": {},
   "outputs": [
    {
     "data": {
      "text/plain": [
       "0    22.0\n",
       "1    38.0\n",
       "2    26.0\n",
       "3    35.0\n",
       "4    35.0\n",
       "Name: age, dtype: float64"
      ]
     },
     "execution_count": 18,
     "metadata": {},
     "output_type": "execute_result"
    }
   ],
   "source": [
    "df.loc[0, 'age'] = 22.0\n",
    "df['age'].head()"
   ]
  },
  {
   "cell_type": "markdown",
   "id": "283741dc",
   "metadata": {},
   "source": [
    "### Testing that Values Are Greater Than/Less Than Specific Value"
   ]
  },
  {
   "cell_type": "code",
   "execution_count": 19,
   "id": "5aed191b",
   "metadata": {},
   "outputs": [
    {
     "name": "stdout",
     "output_type": "stream",
     "text": [
      "Validated!\n"
     ]
    }
   ],
   "source": [
    "schema = DataFrameSchema(\n",
    "                            {\"survived\": Column(int), \n",
    "                             \"pclass\": Column(int),\n",
    "                             \"name\": Column(str),\n",
    "                             \"sex\": Column(str),\n",
    "                             \"age\": Column(float, Check.less_than_or_equal_to(125)),\n",
    "                             \"fare\": Column(float),\n",
    "                             \"sibsp\": Column(int),\n",
    "                             \"parch\": Column(int)\n",
    "                            }\n",
    "                        )\n",
    "\n",
    "try:\n",
    "    schema.validate(df)\n",
    "    print('Validated!')\n",
    "except pa.errors.SchemaError as schema_error:\n",
    "    print(schema_error)"
   ]
  },
  {
   "cell_type": "markdown",
   "id": "876b8954",
   "metadata": {},
   "source": [
    "### Testing that Values Are In a Specific Range"
   ]
  },
  {
   "cell_type": "code",
   "execution_count": 20,
   "id": "2ba0b0e6",
   "metadata": {},
   "outputs": [
    {
     "name": "stdout",
     "output_type": "stream",
     "text": [
      "Validated!\n"
     ]
    }
   ],
   "source": [
    "schema = DataFrameSchema(\n",
    "                            {\"survived\": Column(int), \n",
    "                             \"pclass\": Column(int),\n",
    "                             \"name\": Column(str),\n",
    "                             \"sex\": Column(str),\n",
    "                             \"age\": Column(float, Check.between(0, 125, include_min=True, include_max=True)),\n",
    "                             \"fare\": Column(float),\n",
    "                             \"sibsp\": Column(int),\n",
    "                             \"parch\": Column(int)\n",
    "                            }\n",
    "                        )\n",
    "\n",
    "try:\n",
    "    schema.validate(df)\n",
    "    print('Validated!')\n",
    "except pa.errors.SchemaError as schema_error:\n",
    "    print(schema_error)"
   ]
  },
  {
   "cell_type": "markdown",
   "id": "edc53533",
   "metadata": {},
   "source": [
    "### Testing that Values in Column are Members of Specified Set"
   ]
  },
  {
   "cell_type": "code",
   "execution_count": 21,
   "id": "63fc6563",
   "metadata": {},
   "outputs": [
    {
     "name": "stdout",
     "output_type": "stream",
     "text": [
      "Validated!\n"
     ]
    }
   ],
   "source": [
    "schema = DataFrameSchema(\n",
    "                            {\"survived\": Column(int), \n",
    "                             \"pclass\": Column(int, Check.isin([1, 2, 3])),\n",
    "                             \"name\": Column(str),\n",
    "                             \"sex\": Column(str),\n",
    "                             \"age\": Column(float),\n",
    "                             \"fare\": Column(float),\n",
    "                             \"sibsp\": Column(int),\n",
    "                             \"parch\": Column(int)\n",
    "                            }\n",
    "                        )\n",
    "\n",
    "try:\n",
    "    schema.validate(df)\n",
    "    print('Validated!')\n",
    "except pa.errors.SchemaError as schema_error:\n",
    "    print(schema_error)"
   ]
  },
  {
   "cell_type": "markdown",
   "id": "ab687767",
   "metadata": {},
   "source": [
    "### Custom Tests on Column"
   ]
  },
  {
   "cell_type": "code",
   "execution_count": 30,
   "id": "3be5a0ac",
   "metadata": {},
   "outputs": [],
   "source": [
    "schema = DataFrameSchema(\n",
    "                            {\"survived\": Column(int), \n",
    "                             \"pclass\": Column(int),\n",
    "                             \"name\": Column(str),\n",
    "                             \"sex\": Column(str),\n",
    "                             \"age\": Column(float),\n",
    "                             \"fare\": Column(float),\n",
    "                             \"sibsp\": Column(int),\n",
    "                             \"parch\": Column(int)\n",
    "                            }\n",
    "                        )\n",
    "\n",
    "# ADD A CUSTOM TEST WITH LAMBDA FUNCTION"
   ]
  },
  {
   "cell_type": "markdown",
   "id": "ca2b1aff",
   "metadata": {},
   "source": [
    "### More Sophisticated Tests on Columns are Possible\n",
    "\n",
    "- Using hypothesis package and scipy for statistical tests\n",
    "  - Detecting data drift\n",
    "- Checks involving multiple columns at once"
   ]
  },
  {
   "cell_type": "markdown",
   "id": "ae9d72ce",
   "metadata": {},
   "source": [
    "## Dataframe-Level Tests"
   ]
  },
  {
   "cell_type": "markdown",
   "id": "6d7e9652",
   "metadata": {},
   "source": [
    "### Testing Presence/Absence of All Columns\n",
    "\n",
    "- Columns not specified in schema aren't check\n",
    "- Can add tests at dataframe level to check for presence/absence of columns\n",
    "  - strict = True\n",
    "  - Only columns listed in schema can be present"
   ]
  },
  {
   "cell_type": "code",
   "execution_count": 31,
   "id": "2e7ed8cf",
   "metadata": {},
   "outputs": [],
   "source": [
    "# add column not in our schema\n",
    "df['is_child'] = df['age'] < 14"
   ]
  },
  {
   "cell_type": "code",
   "execution_count": 32,
   "id": "7927f51d",
   "metadata": {},
   "outputs": [
    {
     "data": {
      "text/html": [
       "<div>\n",
       "<style scoped>\n",
       "    .dataframe tbody tr th:only-of-type {\n",
       "        vertical-align: middle;\n",
       "    }\n",
       "\n",
       "    .dataframe tbody tr th {\n",
       "        vertical-align: top;\n",
       "    }\n",
       "\n",
       "    .dataframe thead th {\n",
       "        text-align: right;\n",
       "    }\n",
       "</style>\n",
       "<table border=\"1\" class=\"dataframe\">\n",
       "  <thead>\n",
       "    <tr style=\"text-align: right;\">\n",
       "      <th></th>\n",
       "      <th>survived</th>\n",
       "      <th>pclass</th>\n",
       "      <th>name</th>\n",
       "      <th>sex</th>\n",
       "      <th>age</th>\n",
       "      <th>fare</th>\n",
       "      <th>sibsp</th>\n",
       "      <th>parch</th>\n",
       "      <th>is_child</th>\n",
       "    </tr>\n",
       "  </thead>\n",
       "  <tbody>\n",
       "    <tr>\n",
       "      <th>0</th>\n",
       "      <td>0</td>\n",
       "      <td>3</td>\n",
       "      <td>Braund, Mr. Owen Harris</td>\n",
       "      <td>male</td>\n",
       "      <td>22.0</td>\n",
       "      <td>7.2500</td>\n",
       "      <td>1</td>\n",
       "      <td>0</td>\n",
       "      <td>False</td>\n",
       "    </tr>\n",
       "    <tr>\n",
       "      <th>1</th>\n",
       "      <td>1</td>\n",
       "      <td>1</td>\n",
       "      <td>Cumings, Mrs. John Bradley (Florence Briggs Th...</td>\n",
       "      <td>female</td>\n",
       "      <td>38.0</td>\n",
       "      <td>71.2833</td>\n",
       "      <td>1</td>\n",
       "      <td>0</td>\n",
       "      <td>False</td>\n",
       "    </tr>\n",
       "    <tr>\n",
       "      <th>2</th>\n",
       "      <td>1</td>\n",
       "      <td>3</td>\n",
       "      <td>Heikkinen, Miss. Laina</td>\n",
       "      <td>female</td>\n",
       "      <td>26.0</td>\n",
       "      <td>7.9250</td>\n",
       "      <td>0</td>\n",
       "      <td>0</td>\n",
       "      <td>False</td>\n",
       "    </tr>\n",
       "    <tr>\n",
       "      <th>3</th>\n",
       "      <td>1</td>\n",
       "      <td>1</td>\n",
       "      <td>Futrelle, Mrs. Jacques Heath (Lily May Peel)</td>\n",
       "      <td>female</td>\n",
       "      <td>35.0</td>\n",
       "      <td>53.1000</td>\n",
       "      <td>1</td>\n",
       "      <td>0</td>\n",
       "      <td>False</td>\n",
       "    </tr>\n",
       "    <tr>\n",
       "      <th>4</th>\n",
       "      <td>0</td>\n",
       "      <td>3</td>\n",
       "      <td>Allen, Mr. William Henry</td>\n",
       "      <td>male</td>\n",
       "      <td>35.0</td>\n",
       "      <td>8.0500</td>\n",
       "      <td>0</td>\n",
       "      <td>0</td>\n",
       "      <td>False</td>\n",
       "    </tr>\n",
       "    <tr>\n",
       "      <th>5</th>\n",
       "      <td>0</td>\n",
       "      <td>1</td>\n",
       "      <td>McCarthy, Mr. Timothy J</td>\n",
       "      <td>male</td>\n",
       "      <td>54.0</td>\n",
       "      <td>51.8625</td>\n",
       "      <td>0</td>\n",
       "      <td>0</td>\n",
       "      <td>False</td>\n",
       "    </tr>\n",
       "    <tr>\n",
       "      <th>6</th>\n",
       "      <td>0</td>\n",
       "      <td>3</td>\n",
       "      <td>Palsson, Master. Gosta Leonard</td>\n",
       "      <td>male</td>\n",
       "      <td>2.0</td>\n",
       "      <td>21.0750</td>\n",
       "      <td>3</td>\n",
       "      <td>1</td>\n",
       "      <td>True</td>\n",
       "    </tr>\n",
       "    <tr>\n",
       "      <th>7</th>\n",
       "      <td>1</td>\n",
       "      <td>3</td>\n",
       "      <td>Johnson, Mrs. Oscar W (Elisabeth Vilhelmina Berg)</td>\n",
       "      <td>female</td>\n",
       "      <td>27.0</td>\n",
       "      <td>11.1333</td>\n",
       "      <td>0</td>\n",
       "      <td>2</td>\n",
       "      <td>False</td>\n",
       "    </tr>\n",
       "    <tr>\n",
       "      <th>8</th>\n",
       "      <td>1</td>\n",
       "      <td>2</td>\n",
       "      <td>Nasser, Mrs. Nicholas (Adele Achem)</td>\n",
       "      <td>female</td>\n",
       "      <td>14.0</td>\n",
       "      <td>30.0708</td>\n",
       "      <td>1</td>\n",
       "      <td>0</td>\n",
       "      <td>False</td>\n",
       "    </tr>\n",
       "    <tr>\n",
       "      <th>9</th>\n",
       "      <td>1</td>\n",
       "      <td>3</td>\n",
       "      <td>Sandstrom, Miss. Marguerite Rut</td>\n",
       "      <td>female</td>\n",
       "      <td>4.0</td>\n",
       "      <td>16.7000</td>\n",
       "      <td>1</td>\n",
       "      <td>1</td>\n",
       "      <td>True</td>\n",
       "    </tr>\n",
       "  </tbody>\n",
       "</table>\n",
       "</div>"
      ],
      "text/plain": [
       "   survived  pclass                                               name  \\\n",
       "0         0       3                            Braund, Mr. Owen Harris   \n",
       "1         1       1  Cumings, Mrs. John Bradley (Florence Briggs Th...   \n",
       "2         1       3                             Heikkinen, Miss. Laina   \n",
       "3         1       1       Futrelle, Mrs. Jacques Heath (Lily May Peel)   \n",
       "4         0       3                           Allen, Mr. William Henry   \n",
       "5         0       1                            McCarthy, Mr. Timothy J   \n",
       "6         0       3                     Palsson, Master. Gosta Leonard   \n",
       "7         1       3  Johnson, Mrs. Oscar W (Elisabeth Vilhelmina Berg)   \n",
       "8         1       2                Nasser, Mrs. Nicholas (Adele Achem)   \n",
       "9         1       3                    Sandstrom, Miss. Marguerite Rut   \n",
       "\n",
       "      sex   age     fare  sibsp  parch  is_child  \n",
       "0    male  22.0   7.2500      1      0     False  \n",
       "1  female  38.0  71.2833      1      0     False  \n",
       "2  female  26.0   7.9250      0      0     False  \n",
       "3  female  35.0  53.1000      1      0     False  \n",
       "4    male  35.0   8.0500      0      0     False  \n",
       "5    male  54.0  51.8625      0      0     False  \n",
       "6    male   2.0  21.0750      3      1      True  \n",
       "7  female  27.0  11.1333      0      2     False  \n",
       "8  female  14.0  30.0708      1      0     False  \n",
       "9  female   4.0  16.7000      1      1      True  "
      ]
     },
     "execution_count": 32,
     "metadata": {},
     "output_type": "execute_result"
    }
   ],
   "source": [
    "df.head(10)"
   ]
  },
  {
   "cell_type": "code",
   "execution_count": 33,
   "id": "29e36ef3",
   "metadata": {},
   "outputs": [
    {
     "name": "stdout",
     "output_type": "stream",
     "text": [
      "Validated!\n"
     ]
    }
   ],
   "source": [
    "# try to validate with new column (should validate successfully)\n",
    "try:\n",
    "    schema.validate(df)\n",
    "    print('Validated!')\n",
    "except pa.errors.SchemaError as schema_error:\n",
    "    print(schema_error)"
   ]
  },
  {
   "cell_type": "code",
   "execution_count": null,
   "id": "9dfe83f9",
   "metadata": {},
   "outputs": [
    {
     "name": "stdout",
     "output_type": "stream",
     "text": [
      "column 'is_child' not in DataFrameSchema {'survived': <Schema Column(name=survived, type=DataType(int64))>, 'pclass': <Schema Column(name=pclass, type=DataType(int64))>, 'name': <Schema Column(name=name, type=DataType(str))>, 'sex': <Schema Column(name=sex, type=DataType(str))>, 'age': <Schema Column(name=age, type=DataType(float64))>, 'fare': <Schema Column(name=fare, type=DataType(float64))>, 'sibsp': <Schema Column(name=sibsp, type=DataType(int64))>, 'parch': <Schema Column(name=parch, type=DataType(int64))>}\n"
     ]
    }
   ],
   "source": [
    "# add strict=True to schema\n",
    "schema = DataFrameSchema(\n",
    "                            {\"survived\": Column(int), \n",
    "                             \"pclass\": Column(int),\n",
    "                             \"name\": Column(str),\n",
    "                             \"sex\": Column(str),\n",
    "                             \"age\": Column(float),\n",
    "                             \"fare\": Column(float),\n",
    "                             \"sibsp\": Column(int),\n",
    "                             \"parch\": Column(int)\n",
    "                            },\n",
    "                            strict=True\n",
    "                        )\n",
    "\n",
    "# with strict = True, won't validate with unspecified column\n",
    "try:\n",
    "    schema.validate(df)\n",
    "    print('Validated!')\n",
    "except pa.errors.SchemaError as schema_error:\n",
    "    print(schema_error)"
   ]
  },
  {
   "cell_type": "code",
   "execution_count": 38,
   "id": "e1bc0adc",
   "metadata": {},
   "outputs": [],
   "source": [
    "df = df.drop('is_child', axis=1)"
   ]
  },
  {
   "cell_type": "markdown",
   "id": "c30475d7",
   "metadata": {},
   "source": [
    "### Testing Order of Cols\n",
    "\n",
    "- Used for enforcing column order specified in schema\n",
    "  - ordered = True"
   ]
  },
  {
   "cell_type": "code",
   "execution_count": 39,
   "id": "9e130529",
   "metadata": {},
   "outputs": [],
   "source": [
    "schema = DataFrameSchema(\n",
    "                            {\"survived\": Column(int), \n",
    "                             \"pclass\": Column(int),\n",
    "                             \"name\": Column(str),\n",
    "                             \"sex\": Column(str),\n",
    "                             \"age\": Column(float),\n",
    "                             \"fare\": Column(float),\n",
    "                             \"sibsp\": Column(int),\n",
    "                             \"parch\": Column(int)\n",
    "                            },\n",
    "                            ordered = True\n",
    "                        )"
   ]
  },
  {
   "cell_type": "code",
   "execution_count": 41,
   "id": "023c8e52",
   "metadata": {},
   "outputs": [],
   "source": [
    "# change order of columns\n",
    "# so 'survived' col is last\n",
    "\n",
    "df = df[['pclass',\n",
    "        'name',\n",
    "        'sex',\n",
    "        'age',\n",
    "        'fare',\n",
    "        'sibsp',\n",
    "        'parch',\n",
    "        'survived']]"
   ]
  },
  {
   "cell_type": "code",
   "execution_count": 42,
   "id": "3b37c2d4",
   "metadata": {},
   "outputs": [
    {
     "name": "stdout",
     "output_type": "stream",
     "text": [
      "column 'pclass' out-of-order\n"
     ]
    }
   ],
   "source": [
    "# with ordered = True, new order of cols won't validate\n",
    "try:\n",
    "    schema.validate(df)\n",
    "    print('Validated!')\n",
    "except pa.errors.SchemaError as schema_error:\n",
    "    print(schema_error)"
   ]
  },
  {
   "cell_type": "code",
   "execution_count": 43,
   "id": "285a0ad1",
   "metadata": {},
   "outputs": [],
   "source": [
    "# change order of columns\n",
    "# back to match schema\n",
    "\n",
    "df = df[['survived',\n",
    "        'pclass',\n",
    "        'name',\n",
    "        'sex',\n",
    "        'age',\n",
    "        'fare',\n",
    "        'sibsp',\n",
    "        'parch']]"
   ]
  },
  {
   "cell_type": "markdown",
   "id": "0ab388a1",
   "metadata": {},
   "source": [
    "### Testing Uniqueness of Columns\n",
    "- To make sure you don't have columns with duplicate values\n",
    "- unique = [\"col_1\", \"col_2\"]  "
   ]
  },
  {
   "cell_type": "markdown",
   "id": "f13f6e1c",
   "metadata": {},
   "source": [
    "### REMOVE?\n",
    "### Removing Invalid Rows\n",
    "\n",
    "- drop_invalid_rows = True"
   ]
  },
  {
   "cell_type": "markdown",
   "id": "03a5ef86",
   "metadata": {},
   "source": [
    "## Pandera can attempt to infer a schema automatically"
   ]
  },
  {
   "cell_type": "code",
   "execution_count": null,
   "id": "1c6dc025",
   "metadata": {},
   "outputs": [],
   "source": [
    "#%%\n",
    "# have pandera automatically infer the DataFrameSchema from the dataframe\n",
    "schema_inferred = pa.infer_schema(df)\n",
    "\n",
    "#%%\n",
    "# inspect DataFrameSchmea\n",
    "print(schema_inferred)"
   ]
  },
  {
   "cell_type": "markdown",
   "id": "f7402a32",
   "metadata": {},
   "source": [
    "## Lazy Validation \n",
    "- Lazy Validation\n",
    "  - By default, first failed test raises error\n",
    "  - Can set lazy = True to accumulate results of all tests and see all errors that are have occurred\n",
    "  - schema.validate(df, lazy = True)\n",
    "  - Easiest to view accumulated results as json\n"
   ]
  },
  {
   "cell_type": "code",
   "execution_count": null,
   "id": "942826fa",
   "metadata": {},
   "outputs": [
    {
     "name": "stdout",
     "output_type": "stream",
     "text": [
      "{\n",
      "  \"DATA\": {\n",
      "    \"DATAFRAME_CHECK\": [\n",
      "      {\n",
      "        \"schema\": null,\n",
      "        \"column\": \"pclass\",\n",
      "        \"check\": \"isin([2, 3])\",\n",
      "        \"error\": \"Column 'pclass' failed element-wise validator number 0: isin([2, 3]) failure cases: 1, 1, 1, 1, 1, 1, 1, 1, 1, 1, 1, 1, 1, 1, 1, 1, 1, 1, 1, 1, 1, 1, 1, 1, 1, 1, 1, 1, 1, 1, 1, 1, 1, 1, 1, 1, 1, 1, 1, 1, 1, 1, 1, 1, 1, 1, 1, 1, 1, 1, 1, 1, 1, 1, 1, 1, 1, 1, 1, 1, 1, 1, 1, 1, 1, 1, 1, 1, 1, 1, 1, 1, 1, 1, 1, 1, 1, 1, 1, 1, 1, 1, 1, 1, 1, 1, 1, 1, 1, 1, 1, 1, 1, 1, 1, 1, 1, 1, 1, 1, 1, 1, 1, 1, 1, 1, 1, 1, 1, 1, 1, 1, 1, 1, 1, 1, 1, 1, 1, 1, 1, 1, 1, 1, 1, 1, 1, 1, 1, 1, 1, 1, 1, 1, 1, 1, 1, 1, 1, 1, 1, 1, 1, 1, 1, 1, 1, 1, 1, 1, 1, 1, 1, 1, 1, 1, 1, 1, 1, 1, 1, 1, 1, 1, 1, 1, 1, 1, 1, 1, 1, 1, 1, 1, 1, 1, 1, 1, 1, 1, 1, 1, 1, 1, 1, 1\"\n",
      "      },\n",
      "      {\n",
      "        \"schema\": null,\n",
      "        \"column\": \"age\",\n",
      "        \"check\": \"in_range(5, 65)\",\n",
      "        \"error\": \"Column 'age' failed element-wise validator number 0: in_range(5, 65) failure cases: 2.0, 4.0, 2.0, 66.0, 3.0, 4.0, 0.83, 71.0, 70.5, 2.0, 1.0, 4.0, 1.0, 1.0, 4.0, 3.0, 2.0, 3.0, 2.0, 0.92, 2.0, 3.0, 3.0, 1.0, 1.0, 3.0, 4.0, 0.75, 2.0, 71.0, 2.0, 4.0, 80.0, 2.0, 0.75, 70.0, 4.0, 70.0, 4.0, 0.67, 1.0, 0.42, 2.0, 1.0, 0.83, 4.0, 74.0, 4.0\"\n",
      "      }\n",
      "    ]\n",
      "  }\n",
      "}\n"
     ]
    }
   ],
   "source": [
    "schema = DataFrameSchema(\n",
    "                            {\"survived\": Column(int), \n",
    "                             \"pclass\": Column(int, Check.isin([2, 3])),\n",
    "                             \"name\": Column(str),\n",
    "                             \"sex\": Column(str),\n",
    "                             \"age\": Column(float, Check.between(5, 65, include_min=True, include_max=True)),\n",
    "                             \"fare\": Column(float),\n",
    "                             \"sibsp\": Column(int),\n",
    "                             \"parch\": Column(int)\n",
    "                            }\n",
    "                        )\n",
    "\n",
    "# toggle between lazy=False and lazy=True to see difference\n",
    "try:\n",
    "    schema.validate(df, lazy=False)\n",
    "except pa.errors.SchemaErrors as e:\n",
    "    print(json.dumps(e.message, indent=2))"
   ]
  },
  {
   "cell_type": "markdown",
   "id": "564e0b14",
   "metadata": {},
   "source": [
    "## Generating Error Reports\n",
    "- Can write error reports to json file"
   ]
  },
  {
   "cell_type": "code",
   "execution_count": 47,
   "id": "11ce1ad6",
   "metadata": {},
   "outputs": [
    {
     "name": "stdout",
     "output_type": "stream",
     "text": [
      "{\n",
      "  \"DATA\": {\n",
      "    \"DATAFRAME_CHECK\": [\n",
      "      {\n",
      "        \"schema\": null,\n",
      "        \"column\": \"pclass\",\n",
      "        \"check\": \"isin([2, 3])\",\n",
      "        \"error\": \"Column 'pclass' failed element-wise validator number 0: isin([2, 3]) failure cases: 1, 1, 1, 1, 1, 1, 1, 1, 1, 1, 1, 1, 1, 1, 1, 1, 1, 1, 1, 1, 1, 1, 1, 1, 1, 1, 1, 1, 1, 1, 1, 1, 1, 1, 1, 1, 1, 1, 1, 1, 1, 1, 1, 1, 1, 1, 1, 1, 1, 1, 1, 1, 1, 1, 1, 1, 1, 1, 1, 1, 1, 1, 1, 1, 1, 1, 1, 1, 1, 1, 1, 1, 1, 1, 1, 1, 1, 1, 1, 1, 1, 1, 1, 1, 1, 1, 1, 1, 1, 1, 1, 1, 1, 1, 1, 1, 1, 1, 1, 1, 1, 1, 1, 1, 1, 1, 1, 1, 1, 1, 1, 1, 1, 1, 1, 1, 1, 1, 1, 1, 1, 1, 1, 1, 1, 1, 1, 1, 1, 1, 1, 1, 1, 1, 1, 1, 1, 1, 1, 1, 1, 1, 1, 1, 1, 1, 1, 1, 1, 1, 1, 1, 1, 1, 1, 1, 1, 1, 1, 1, 1, 1, 1, 1, 1, 1, 1, 1, 1, 1, 1, 1, 1, 1, 1, 1, 1, 1, 1, 1, 1, 1, 1, 1, 1, 1\"\n",
      "      },\n",
      "      {\n",
      "        \"schema\": null,\n",
      "        \"column\": \"age\",\n",
      "        \"check\": \"in_range(5, 65)\",\n",
      "        \"error\": \"Column 'age' failed element-wise validator number 0: in_range(5, 65) failure cases: 2.0, 4.0, 2.0, 66.0, 3.0, 4.0, 0.83, 71.0, 70.5, 2.0, 1.0, 4.0, 1.0, 1.0, 4.0, 3.0, 2.0, 3.0, 2.0, 0.92, 2.0, 3.0, 3.0, 1.0, 1.0, 3.0, 4.0, 0.75, 2.0, 71.0, 2.0, 4.0, 80.0, 2.0, 0.75, 70.0, 4.0, 70.0, 4.0, 0.67, 1.0, 0.42, 2.0, 1.0, 0.83, 4.0, 74.0, 4.0\"\n",
      "      }\n",
      "    ]\n",
      "  }\n",
      "}\n"
     ]
    }
   ],
   "source": [
    "schema = DataFrameSchema(\n",
    "                            {\"survived\": Column(int), \n",
    "                             \"pclass\": Column(int, Check.isin([2, 3])),\n",
    "                             \"name\": Column(str),\n",
    "                             \"sex\": Column(str),\n",
    "                             \"age\": Column(float, Check.between(5, 65, include_min=True, include_max=True)),\n",
    "                             \"fare\": Column(float),\n",
    "                             \"sibsp\": Column(int),\n",
    "                             \"parch\": Column(int)\n",
    "                            }\n",
    "                        )\n",
    "\n",
    "\n",
    "try:\n",
    "    schema.validate(df, lazy=True)\n",
    "except pa.errors.SchemaErrors as e:\n",
    "    json_string = json.dumps(e.message, indent=2)\n",
    "    print(json_string)\n",
    "\n",
    "with open(\"../schema_error_reports/schema_error_log.json\", \"w\") as file:\n",
    "    file.write(json_string)"
   ]
  },
  {
   "cell_type": "markdown",
   "id": "1ffdf46a",
   "metadata": {},
   "source": [
    "## Schema Transformations\n",
    "- Can be used to modify schemas without needing to redefine entire schema\n",
    "  - schema.add_columns()\n",
    "  - schema.remove_columns()\n",
    "  - schema.update_columns()\n",
    "  - schema.rename_columns()\n",
    "  - schema.set_index()\n",
    "  - schema.reset_index()"
   ]
  },
  {
   "cell_type": "markdown",
   "id": "e5778d14",
   "metadata": {},
   "source": [
    "## Saving Schema Specifications\n",
    "- Schema specifications can be saved to file\n",
    "  - .py \n",
    "  - .yaml Files"
   ]
  },
  {
   "cell_type": "code",
   "execution_count": null,
   "id": "832d7deb",
   "metadata": {},
   "outputs": [],
   "source": [
    "# storing schema specification as python script\n",
    "schema.to_script('../schemas/titanic_schema_inferred.py')\n",
    "\n",
    "# storing schema specification as yaml file\n",
    "schema.to_yaml('../schemas/titanic_schema_inferred.yaml')"
   ]
  },
  {
   "cell_type": "markdown",
   "id": "d00253a7",
   "metadata": {},
   "source": [
    "## Using Pandera decorators for easy integration of data validation into data pipelines"
   ]
  },
  {
   "cell_type": "markdown",
   "id": "2cb70c96",
   "metadata": {},
   "source": [
    "### What's a decorator?\n",
    "- a function (higher-order function) that modifies the behavior of a function without direct changing the code in the function or class\n",
    "- essentially a wrapper that can be used to extend/alter original function\n",
    "- denoted in python by the @ symbol"
   ]
  },
  {
   "cell_type": "code",
   "execution_count": null,
   "id": "a22ebbe7",
   "metadata": {},
   "outputs": [],
   "source": [
    "# toy example of what a decorated function looks like\n",
    "@my_decorator\n",
    "def my_function():\n",
    "    pass\n",
    "\n",
    "# behind the scenes, the function is modified by decorator\n",
    "def my_function():\n",
    "    pass\n",
    "my_function = my_decorator(my_function)"
   ]
  },
  {
   "cell_type": "markdown",
   "id": "9893c362",
   "metadata": {},
   "source": [
    "### Pandera Decorators\n",
    "- @check_input\n",
    "- @check_output\n",
    "- @check_io"
   ]
  }
 ],
 "metadata": {
  "kernelspec": {
   "display_name": "Python 3",
   "language": "python",
   "name": "python3"
  },
  "language_info": {
   "codemirror_mode": {
    "name": "ipython",
    "version": 3
   },
   "file_extension": ".py",
   "mimetype": "text/x-python",
   "name": "python",
   "nbconvert_exporter": "python",
   "pygments_lexer": "ipython3",
   "version": "3.12.1"
  }
 },
 "nbformat": 4,
 "nbformat_minor": 5
}
